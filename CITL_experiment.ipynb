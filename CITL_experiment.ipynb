{
 "cells": [
  {
   "cell_type": "code",
   "execution_count": null,
   "metadata": {},
   "outputs": [],
   "source": [
    "import os\n",
    "import tensorflow as tf\n",
    "print('tf', tf.__version__)\n",
    "#######################\n",
    "import cv2\n",
    "#######################\n",
    "import lib.utils.utils as ut\n",
    "import lib.utils.dataset as utds\n",
    "import lib.utils.slm as utslm\n",
    "import lib.oamlib as ol\n",
    "import lib.CITL as CITL\n",
    "import lib.modulate as mod\n",
    "import lib.CITL_trainer as CITL_trainer\n",
    "import lib.oamnet_trainer as oamnet_trainer\n",
    "\n",
    "from lib.device_manager import DeviceManager\n",
    "\n",
    "# This script showcases OAM-multiplexed holography using deep learning and Camera-in-the-loop (CITL) optimization."
   ]
  },
  {
   "cell_type": "code",
   "execution_count": null,
   "metadata": {},
   "outputs": [],
   "source": [
    "# Setting up OAM-multiplexed holography setup with a single SLM and a camera.\n",
    "suimg = ol.Setup(N = [384,512,256], L = .2,ps = 1)      # Image setup with a 384x512 resolution\n",
    "suslm = ol.Setup(N = [1024,1024,256], L = .2,ps = 1)    # SLM setup with a 1024x1024 resolution\n",
    "d = 8   # Sampling interval in pixels\n",
    "Nch = 12    # Number of channels (OAM modes) to be used in the multiplexing\n",
    "dl = 2  # Topological charge spacing between OAM modes\n",
    "image_size = [suimg.Ny, suimg.Nx] \n",
    "\n",
    "l_list = tf.constant(range(-Nch//2*dl, Nch//2*dl, dl), tf.float32) # OAM modes' topological charges\n",
    "oam = ol.OAM(suimg, suslm, offpp = [.5,.15], l_list = l_list, d = d, slmpadf = 0, RA = 512)     # Class providing necessary functions for OAM-multiplexed holography\n",
    "modulation = mod.Modulation_1SLM(oam)   # Modulation class for OAM-multiplexed holography with a single SLM\n"
   ]
  },
  {
   "cell_type": "code",
   "execution_count": null,
   "metadata": {},
   "outputs": [],
   "source": [
    "# Setting up the device manager to control the SLM and camera.\n",
    "device_manager = DeviceManager()    # This class manages the SLM and camera devices.\n",
    "device_manager.setup_devices(exptime = 10000)   # Set the exposure time\n",
    "\n",
    "holo_grid = cv2.imread('./grid/grid_15_gs1000'+'.png', cv2.IMREAD_UNCHANGED)[None,...,None] # Load a hologram that produces a grid pattern corresponding to the 2D sampling array.\n",
    "holo_grid = tf.constant(holo_grid,tf.uint8)\n",
    "gridimg = device_manager.show_capture(holo_grid, slmpause = 400) # Display the grid hologram and capture the image from the camera.\n",
    "#gridimg = device_manager.show_capture_multi(holo_grid, slmpause = 400) # For future use working with two SLMs.\n",
    "\n",
    "ut.draw(gridimg[0,1000:1160,1200:1360,0], size = 1) # Draw a sample of the captured sampling array image.\n",
    "\n",
    "# Setting up the CITL experiment class.\n",
    "experimenter = CITL.ExperimentClass(oam, device_manager, modulation, holo_grid, dh=0.1, prom=0.1, win_size= 3, slmpause= 300)\n",
    "\n"
   ]
  },
  {
   "cell_type": "code",
   "execution_count": null,
   "metadata": {},
   "outputs": [],
   "source": [
    "# Setting up the training dataset for learning parameterized propagation model via CITL calibration.\n",
    "homepath = 'C:\\\\Users\\\\nima_\\\\CITL_DS_pad15_f64_mix_symTC\\\\'\n",
    "#omepath = 'C:\\\\Users\\\\nima_\\\\CITL_DS\\\\'\n",
    "holopath = homepath + f'd8_L{oam.dl}_N{oam.Nch}\\\\'\n",
    "\n",
    "# Creating a dataset from the holograms stored in binary files.\n",
    "holo_ds = utds.binarydataset(1000,[holopath], n_items = 2, types = [tf.uint8,tf.float32], sf = False, Batch = None)\n",
    "\n",
    "lrs = {0: 0.01, 250: 0.001, 900: 0.0001}\n",
    "# Training the CITL model with the specified parameters.\n",
    "propmodel = CITL_trainer.train(\"1SLM\", oam, experimenter, holo_ds, lrs, 300, verbose = False)"
   ]
  },
  {
   "cell_type": "code",
   "execution_count": null,
   "metadata": {},
   "outputs": [],
   "source": [
    "# Setting up the training dataset for OAM-multiplexed holography using neural networks (OAMNET).\n",
    "trainpathbin = 'C:/Users/nima_/My Drive/DS/DIV2K_train_HR_bin/'\n",
    "circpath = 'C:/Users/nima_/My Drive/DS/circles/'\n",
    "\n",
    "# Creating a custom dataset for training the OAMNET model.\n",
    "train_samp_ds = ut.customdataset([trainpathbin,circpath],Nch, 12, insize=[64,48,1], outsize=None, Batch = 1)\n",
    "\n",
    "# Pretrained OAMNET model assuming an ideal propagation model.\n",
    "OAMNET_basic = tf.keras.models.load_model(f'./nets/NN64f_pad15_d8_L{oam.dl}_N{oam.Nch}_mix')\n",
    "\n",
    "\n",
    "OAMNET_prop = tf.keras.models.load_model(f'./nets/NN64f_pad15_d8_L{oam.dl}_N{oam.Nch}_mix')\n",
    "# Training the OAMNET model assuming a parameterized propagation model.\n",
    "oamnet_trainer.train(OAMNET_prop, train_samp_ds, oam, propmodel, modulation,  \n",
    "                     save_dir= './nets_prop', name= 'NN_64f', verbose = False)\n"
   ]
  },
  {
   "cell_type": "code",
   "execution_count": null,
   "metadata": {},
   "outputs": [],
   "source": [
    "\"\"\"\n",
    "Gathering the results for OAM-multiplexed holography using various methods.\n",
    "    - GD_basic: Gradient descent method assuming an ideal propagation model.\n",
    "    - GD_prop: Gradient descent method assuming a parameterized propagation model.\n",
    "    - NN_basic: Neural network method assuming an ideal propagation model.\n",
    "    - NN_prop: Neural network method assuming a parameterized propagation model.\n",
    "    - GS_basic: Conventional Phase Hologram (Conv. PH) method via the GS algorithm assuming an ideal propagation model.\n",
    "    - GS_prop: Conventional Phase Hologram (Conv. PH) method via the GS algorithm  assuming a parameterized propagation model.\n",
    "\"\"\"\n",
    "\n",
    "test_ds_path = 'C:/Users/nima_/My Drive/DS/DIV2K_valid_HR/'\n",
    "logo_ds_path = 'C:/Users/nima_/My Drive/OAMsamples/logo/'\n",
    "\n",
    "I_true_logo = CITL.load_or_create_samples(12, 2, image_size, 'logo', logo_ds_path, sample_path = \"./Itrue\", regen = True)\n",
    "I_true_natural = CITL.load_or_create_samples(12, 2, image_size, 'natural', test_ds_path, sample_path = \"./Itrue\", regen = True)\n",
    "I_true_test = I_true_natural + I_true_logo\n",
    "I_true_test = [I_true_test[5]]\n",
    "\n",
    "resultfolder = './result'\n",
    "casename = f'L{oam.dl}_N{oam.Nch}'\n",
    "\n",
    "# Methods that solves, simulates, performs experiment measurements and saves results for OAM-multiplexed holography using various methods.\n",
    "GD_prop_fun = lambda I: CITL.measure_gd(I, oam, path, experimenter, 3, propmodel, modulation, itr= 100)\n",
    "GD_basic_fun = lambda I: CITL.measure_gd(I, oam, path, experimenter, 3, None, None, itr= 100)\n",
    "\n",
    "NN_prop_fun = lambda I: CITL.measure_nn(I, oam, path, OAMNET_prop, experimenter, 3, propmodel, modulation)\n",
    "NN_basic_fun = lambda I: CITL.measure_nn(I, oam, path, OAMNET_basic, experimenter, 3, None, None)\n",
    "\n",
    "GS_prop_fun = lambda I: CITL.measure_gs(I, oam, path, experimenter, 3, propmodel, itr= 200)\n",
    "GS_basic_fun = lambda I: CITL.measure_gs(I, oam, path, experimenter, 3, None, itr= 200)\n",
    "\n",
    "methods = [{\"name\": \"gd_prop\", \"fun\": GD_prop_fun},\n",
    "           {\"name\": \"gd_basic\", \"fun\": GD_basic_fun},\n",
    "           {\"name\": \"nn_prop\", \"fun\": NN_prop_fun},\n",
    "           {\"name\": \"nn_basic\", \"fun\": NN_basic_fun},\n",
    "           {\"name\": \"gs_prop\", \"fun\": GS_prop_fun},\n",
    "           {\"name\": \"gs_basic\", \"fun\": GS_basic_fun}\n",
    "           ]\n",
    "\n",
    "# Running methods to solve, simulate, perform experiment measurements and save results.\n",
    "for method in methods:\n",
    "    path = os.path.join(resultfolder, casename , method[\"name\"])\n",
    "    method[\"fun\"](I_true_test)\n",
    "    print(method[\"name\"], \"is done\")\n",
    "\n",
    "\n",
    "\n"
   ]
  },
  {
   "cell_type": "code",
   "execution_count": null,
   "metadata": {},
   "outputs": [],
   "source": [
    "# Releasing the devices after the experiment is done.\n",
    "device_manager.release_devices()\n",
    "device_manager = []"
   ]
  }
 ],
 "metadata": {
  "kernelspec": {
   "display_name": "Python 3",
   "language": "python",
   "name": "python3"
  },
  "language_info": {
   "codemirror_mode": {
    "name": "ipython",
    "version": 3
   },
   "file_extension": ".py",
   "mimetype": "text/x-python",
   "name": "python",
   "nbconvert_exporter": "python",
   "pygments_lexer": "ipython3",
   "version": "3.9.13"
  }
 },
 "nbformat": 4,
 "nbformat_minor": 4
}
